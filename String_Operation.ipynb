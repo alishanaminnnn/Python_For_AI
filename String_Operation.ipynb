{
 "cells": [
  {
   "cell_type": "code",
   "execution_count": 1,
   "id": "748e4d6d",
   "metadata": {},
   "outputs": [
    {
     "data": {
      "text/plain": [
       "11"
      ]
     },
     "execution_count": 1,
     "metadata": {},
     "output_type": "execute_result"
    }
   ],
   "source": [
    "'''Take a string input of your name and print its length.'''\n",
    "Name=\"AlishanAmin\"\n",
    "len(Name)"
   ]
  },
  {
   "cell_type": "code",
   "execution_count": 3,
   "id": "899978a6",
   "metadata": {},
   "outputs": [
    {
     "name": "stdout",
     "output_type": "stream",
     "text": [
      "converted to uppercase :ALISHANAMIN\n",
      "converted to lowercase :alishanamin\n"
     ]
    }
   ],
   "source": [
    "'''Convert a given string into uppercase and lowercase.'''\n",
    "Name=\"AlishanAmin\"\n",
    "Upper_case=Name.upper()\n",
    "Lower_case=Name.lower()\n",
    "print(f\"converted to uppercase :{Upper_case}\")\n",
    "print(f\"converted to lowercase :{Lower_case}\")"
   ]
  },
  {
   "cell_type": "code",
   "execution_count": 4,
   "id": "97652b80",
   "metadata": {},
   "outputs": [
    {
     "name": "stdout",
     "output_type": "stream",
     "text": [
      "nimAnahsilA\n"
     ]
    }
   ],
   "source": [
    "'''Reverse the string \"AlishanAmin\".'''\n",
    "Name = \"AlishanAmin\"\n",
    "reversed_text = Name[::-1]\n",
    "print(reversed_text)"
   ]
  },
  {
   "cell_type": "code",
   "execution_count": 6,
   "id": "2dbd023b",
   "metadata": {},
   "outputs": [
    {
     "name": "stdout",
     "output_type": "stream",
     "text": [
      "Aihnmn\n"
     ]
    }
   ],
   "source": [
    "'''print every second value in the word \"AlishanAmin\".'''\n",
    "Name=\"AlishanAmin\"\n",
    "Every_Second_Value=Name[::2]\n",
    "print(Every_Second_Value)"
   ]
  },
  {
   "cell_type": "code",
   "execution_count": 8,
   "id": "499f8199",
   "metadata": {},
   "outputs": [
    {
     "name": "stdout",
     "output_type": "stream",
     "text": [
      "Ele\n"
     ]
    }
   ],
   "source": [
    "'''Extract the first three characters of \"Elephant\".'''\n",
    "Animal=\"Elephant\"\n",
    "First_Three=Animal[0:3]\n",
    "print(First_Three)"
   ]
  },
  {
   "cell_type": "code",
   "execution_count": 15,
   "id": "4045423a",
   "metadata": {},
   "outputs": [
    {
     "name": "stdout",
     "output_type": "stream",
     "text": [
      "I A n e p O\n"
     ]
    }
   ],
   "source": [
    "'''Reverse the string \"OpenAI\" using slicing.'''\n",
    "AI=\"OpenAI\"\n",
    "a1=AI[0]\n",
    "a2=AI[1]\n",
    "a3=AI[2]\n",
    "a4=AI[3]\n",
    "a5=AI[4]\n",
    "a6=AI[5]\n",
    "print(a6,a5,a4,a3,a2,a1)\n"
   ]
  }
 ],
 "metadata": {
  "kernelspec": {
   "display_name": "Python 3",
   "language": "python",
   "name": "python3"
  },
  "language_info": {
   "codemirror_mode": {
    "name": "ipython",
    "version": 3
   },
   "file_extension": ".py",
   "mimetype": "text/x-python",
   "name": "python",
   "nbconvert_exporter": "python",
   "pygments_lexer": "ipython3",
   "version": "3.13.7"
  }
 },
 "nbformat": 4,
 "nbformat_minor": 5
}
