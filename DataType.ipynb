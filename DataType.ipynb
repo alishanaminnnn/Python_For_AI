{
 "cells": [
  {
   "cell_type": "code",
   "execution_count": 12,
   "id": "aa710f0a",
   "metadata": {},
   "outputs": [
    {
     "name": "stdout",
     "output_type": "stream",
     "text": [
      "The tye of Variable is :<class 'int'>\n",
      "The tye of Variable is :<class 'float'>\n"
     ]
    }
   ],
   "source": [
    "''' 1.A shopkeeper records the price of an item as an integer, its weight as a float,and\n",
    " its name as a string. Write a program that prints the type of each variable.'''\n",
    "Apple=20\n",
    "weight=2.45\n",
    "#  \"f\"Inside this string, evaluate anything inside { } as Python code and insert its value\n",
    "print(f\"The tye of Variable is :{type(Apple)}\") \n",
    "print(f\"The tye of Variable is :{type(weight)}\") \n"
   ]
  },
  {
   "cell_type": "code",
   "execution_count": 13,
   "id": "ece9e7c0",
   "metadata": {},
   "outputs": [
    {
     "name": "stdout",
     "output_type": "stream",
     "text": [
      "Total Students Present Are 3\n"
     ]
    }
   ],
   "source": [
    "''' You are making a digital attendance system. A student's presence is stored as True or False.\n",
    "Show how this boolean value can be used in a calculation (for example, count total presents)'''\n",
    "Ali=True\n",
    "Shan=False\n",
    "Alishba=True\n",
    "Alishan=True\n",
    "Total_Students=Alishba+Ali+Shan+Alishan\n",
    "print(f\"Total Students Present Are {Total_Students}\")\n"
   ]
  },
  {
   "cell_type": "code",
   "execution_count": 1,
   "id": "e11f3e8a",
   "metadata": {},
   "outputs": [
    {
     "name": "stdout",
     "output_type": "stream",
     "text": [
      "Total Fine is 13.5\n"
     ]
    }
   ],
   "source": [
    "'''A library charges fines based on the number of late days (integer) and the per-day fine (float). Store both\n",
    "   values and display the total fine.'''\n",
    "Late_Days=3\n",
    "Fine_PerDay=4.5\n",
    "Total=Late_Days*Fine_PerDay\n",
    "print(f\"Total Fine is {Total}\")\n"
   ]
  }
 ],
 "metadata": {
  "kernelspec": {
   "display_name": "Python 3",
   "language": "python",
   "name": "python3"
  },
  "language_info": {
   "codemirror_mode": {
    "name": "ipython",
    "version": 3
   },
   "file_extension": ".py",
   "mimetype": "text/x-python",
   "name": "python",
   "nbconvert_exporter": "python",
   "pygments_lexer": "ipython3",
   "version": "3.13.7"
  }
 },
 "nbformat": 4,
 "nbformat_minor": 5
}
