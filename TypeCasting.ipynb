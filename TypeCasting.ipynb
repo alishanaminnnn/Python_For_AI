{
 "cells": [
  {
   "cell_type": "code",
   "execution_count": null,
   "id": "aff2d33b",
   "metadata": {},
   "outputs": [
    {
     "name": "stdout",
     "output_type": "stream",
     "text": [
      "425\n"
     ]
    }
   ],
   "source": [
    "'''A shopkeeper stores prices as strings: [\"100\", \"250\", \"75\"]. Convert them to integers and find\n",
    " the total bill.'''\n",
    "Prices1=[\"100\", \"250\", \"75\"]\n",
    "a=int('100')\n",
    "b=int('250')\n",
    "c=int('75')\n",
    "ADD=a+b+c\n",
    "print(ADD)"
   ]
  },
  {
   "cell_type": "code",
   "execution_count": null,
   "id": "53b2f103",
   "metadata": {},
   "outputs": [
    {
     "name": "stdout",
     "output_type": "stream",
     "text": [
      "85\n"
     ]
    }
   ],
   "source": [
    "'''A list contains marks as floats: [89.5, 76.25, 91.0]. Convert them to integers and calculate\n",
    " the average.'''\n",
    "Float_Marks=[89.5, 76.25, 91.0]\n",
    "# This process is used when we want to TypeCast all data togeather\n",
    "a=int(89.5)\n",
    "b=int(76.25)\n",
    "c=int(91.0)\n",
    "Average_marks=(a+b+c)/3\n",
    "A_Marks=int(Average_marks)\n",
    "print(A_Marks)\n"
   ]
  },
  {
   "cell_type": "code",
   "execution_count": 14,
   "id": "d055ddd1",
   "metadata": {},
   "outputs": [
    {
     "name": "stdout",
     "output_type": "stream",
     "text": [
      "The Total Bill is : 2250\n"
     ]
    }
   ],
   "source": [
    "'''A user inputs the number of units as a string \"150\". Convert it to an integer and multiply by 15\n",
    " to calculate the bill.'''\n",
    "Units='150'\n",
    "Integer_units=int(Units)\n",
    "Bills=Integer_units*15\n",
    "print(f\"The Total Bill is : {Bills}\")\n"
   ]
  },
  {
   "cell_type": "code",
   "execution_count": 21,
   "id": "e3dca38a",
   "metadata": {},
   "outputs": [
    {
     "name": "stdout",
     "output_type": "stream",
     "text": [
      "100\n",
      "4555\n"
     ]
    }
   ],
   "source": [
    "'''Two numbers are given as strings: \"45\" and \"55\". Convert and add them. Then, concatenate them\n",
    " without converting. Compare both results.'''\n",
    "a='45'\n",
    "b='55'\n",
    "c=int(a)\n",
    "d=int(b)\n",
    "s=c+d\n",
    "print(s)\n",
    "concacinate=a+b\n",
    "print(concacinate)"
   ]
  }
 ],
 "metadata": {
  "kernelspec": {
   "display_name": "Python 3",
   "language": "python",
   "name": "python3"
  },
  "language_info": {
   "codemirror_mode": {
    "name": "ipython",
    "version": 3
   },
   "file_extension": ".py",
   "mimetype": "text/x-python",
   "name": "python",
   "nbconvert_exporter": "python",
   "pygments_lexer": "ipython3",
   "version": "3.13.7"
  }
 },
 "nbformat": 4,
 "nbformat_minor": 5
}
